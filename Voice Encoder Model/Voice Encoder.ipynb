{
 "cells": [
  {
   "cell_type": "code",
   "execution_count": 1,
   "metadata": {
    "colab": {
     "base_uri": "https://localhost:8080/",
     "height": 125
    },
    "colab_type": "code",
    "id": "zYgzRPtvf9XR",
    "outputId": "ee78df48-ea8c-49d1-e72b-f38ca918abc1"
   },
   "outputs": [
    {
     "name": "stdout",
     "output_type": "stream",
     "text": [
      "Go to this URL in a browser: https://accounts.google.com/o/oauth2/auth?client_id=947318989803-6bn6qk8qdgf4n4g3pfee6491hc0brc4i.apps.googleusercontent.com&redirect_uri=urn%3Aietf%3Awg%3Aoauth%3A2.0%3Aoob&scope=email%20https%3A%2F%2Fwww.googleapis.com%2Fauth%2Fdocs.test%20https%3A%2F%2Fwww.googleapis.com%2Fauth%2Fdrive%20https%3A%2F%2Fwww.googleapis.com%2Fauth%2Fdrive.photos.readonly%20https%3A%2F%2Fwww.googleapis.com%2Fauth%2Fpeopleapi.readonly&response_type=code\n",
      "\n",
      "Enter your authorization code:\n",
      "··········\n",
      "Mounted at /content/drive\n"
     ]
    }
   ],
   "source": [
    "from google.colab import drive\n",
    "drive.mount(\"/content/drive\")"
   ]
  },
  {
   "cell_type": "code",
   "execution_count": 2,
   "metadata": {
    "colab": {
     "base_uri": "https://localhost:8080/",
     "height": 34
    },
    "colab_type": "code",
    "id": "Qe4MqlotqOmL",
    "outputId": "a3404bba-429b-4a70-d281-3fb40615995a"
   },
   "outputs": [
    {
     "name": "stderr",
     "output_type": "stream",
     "text": [
      "Using TensorFlow backend.\n"
     ]
    }
   ],
   "source": [
    "import numpy as np\n",
    "import pandas as pd\n",
    "from keras.callbacks import LearningRateScheduler\n",
    "from tqdm import tqdm\n",
    "from keras.layers import Dense, Flatten,Input, Convolution2D, Dropout, Activation, BatchNormalization, Conv2D, MaxPooling2D,AveragePooling2D\n",
    "from keras.models import Sequential, Model\n",
    "from keras.regularizers import l2"
   ]
  },
  {
   "cell_type": "code",
   "execution_count": 3,
   "metadata": {
    "colab": {
     "base_uri": "https://localhost:8080/",
     "height": 34
    },
    "colab_type": "code",
    "id": "MqBzRQongsXQ",
    "outputId": "fafde4b9-056c-4b29-9034-cb476161009b"
   },
   "outputs": [
    {
     "name": "stdout",
     "output_type": "stream",
     "text": [
      "/content/drive/My Drive\n"
     ]
    }
   ],
   "source": [
    "%cd /content/drive/My Drive/"
   ]
  },
  {
   "cell_type": "code",
   "execution_count": null,
   "metadata": {
    "colab": {},
    "colab_type": "code",
    "id": "sPGP-d4YgfBe"
   },
   "outputs": [],
   "source": [
    "X = np.load(\"power_law_comp.npy\",allow_pickle = True)\n",
    "Y = np.load(\"Picture_feature.npy\",allow_pickle = True)"
   ]
  },
  {
   "cell_type": "code",
   "execution_count": null,
   "metadata": {
    "colab": {},
    "colab_type": "code",
    "id": "b2KrVSBz1h7M"
   },
   "outputs": [],
   "source": [
    "from keras.optimizers import Adam\n",
    "from keras import losses\n",
    "adam = Adam(lr=0.001, beta_1=0.5, beta_2=0.9799, amsgrad=False)"
   ]
  },
  {
   "cell_type": "code",
   "execution_count": 6,
   "metadata": {
    "colab": {
     "base_uri": "https://localhost:8080/",
     "height": 534
    },
    "colab_type": "code",
    "id": "w1VbTwpypZJ3",
    "outputId": "7cd07c1c-5eee-44a5-b86b-d0702e018156"
   },
   "outputs": [
    {
     "name": "stdout",
     "output_type": "stream",
     "text": [
      "WARNING:tensorflow:From /usr/local/lib/python3.6/dist-packages/keras/backend/tensorflow_backend.py:66: The name tf.get_default_graph is deprecated. Please use tf.compat.v1.get_default_graph instead.\n",
      "\n",
      "WARNING:tensorflow:From /usr/local/lib/python3.6/dist-packages/keras/backend/tensorflow_backend.py:541: The name tf.placeholder is deprecated. Please use tf.compat.v1.placeholder instead.\n",
      "\n",
      "WARNING:tensorflow:From /usr/local/lib/python3.6/dist-packages/keras/backend/tensorflow_backend.py:4432: The name tf.random_uniform is deprecated. Please use tf.random.uniform instead.\n",
      "\n",
      "WARNING:tensorflow:From /usr/local/lib/python3.6/dist-packages/keras/backend/tensorflow_backend.py:190: The name tf.get_default_session is deprecated. Please use tf.compat.v1.get_default_session instead.\n",
      "\n",
      "WARNING:tensorflow:From /usr/local/lib/python3.6/dist-packages/keras/backend/tensorflow_backend.py:197: The name tf.ConfigProto is deprecated. Please use tf.compat.v1.ConfigProto instead.\n",
      "\n",
      "WARNING:tensorflow:From /usr/local/lib/python3.6/dist-packages/keras/backend/tensorflow_backend.py:203: The name tf.Session is deprecated. Please use tf.compat.v1.Session instead.\n",
      "\n",
      "WARNING:tensorflow:From /usr/local/lib/python3.6/dist-packages/keras/backend/tensorflow_backend.py:207: The name tf.global_variables is deprecated. Please use tf.compat.v1.global_variables instead.\n",
      "\n",
      "WARNING:tensorflow:From /usr/local/lib/python3.6/dist-packages/keras/backend/tensorflow_backend.py:216: The name tf.is_variable_initialized is deprecated. Please use tf.compat.v1.is_variable_initialized instead.\n",
      "\n",
      "WARNING:tensorflow:From /usr/local/lib/python3.6/dist-packages/keras/backend/tensorflow_backend.py:223: The name tf.variables_initializer is deprecated. Please use tf.compat.v1.variables_initializer instead.\n",
      "\n",
      "WARNING:tensorflow:From /usr/local/lib/python3.6/dist-packages/keras/backend/tensorflow_backend.py:2041: The name tf.nn.fused_batch_norm is deprecated. Please use tf.compat.v1.nn.fused_batch_norm instead.\n",
      "\n",
      "WARNING:tensorflow:From /usr/local/lib/python3.6/dist-packages/keras/backend/tensorflow_backend.py:148: The name tf.placeholder_with_default is deprecated. Please use tf.compat.v1.placeholder_with_default instead.\n",
      "\n",
      "WARNING:tensorflow:From /usr/local/lib/python3.6/dist-packages/keras/backend/tensorflow_backend.py:4267: The name tf.nn.max_pool is deprecated. Please use tf.nn.max_pool2d instead.\n",
      "\n",
      "WARNING:tensorflow:From /usr/local/lib/python3.6/dist-packages/keras/backend/tensorflow_backend.py:4271: The name tf.nn.avg_pool is deprecated. Please use tf.nn.avg_pool2d instead.\n",
      "\n",
      "WARNING:tensorflow:From /usr/local/lib/python3.6/dist-packages/keras/optimizers.py:793: The name tf.train.Optimizer is deprecated. Please use tf.compat.v1.train.Optimizer instead.\n",
      "\n"
     ]
    }
   ],
   "source": [
    "model = Sequential()\n",
    "model.add(Conv2D(70,  kernel_size = 4, strides=1, activation='relu' ,input_shape = (X.shape[1],X.shape[2],2)))\n",
    "model.add(BatchNormalization())\n",
    "model.add(Conv2D(70,  kernel_size = 4, strides=1, activation='relu'))#, kernel_regularizer=l2(0.01), bias_regularizer=l2(0.01)))\n",
    "model.add(BatchNormalization())\n",
    "model.add(Conv2D(140, kernel_size = 4, strides=1, activation='relu'))#, kernel_regularizer=l2(0.01), bias_regularizer=l2(0.01)))\n",
    "model.add(BatchNormalization())\n",
    "model.add(MaxPooling2D(pool_size = (2,1),strides = (2,1)))\n",
    "model.add(Conv2D(140, kernel_size = 4, strides=1, activation='relu'))#, kernel_regularizer=l2(0.01), bias_regularizer=l2(0.01)))\n",
    "model.add(BatchNormalization())\n",
    "model.add(MaxPooling2D(pool_size = (2,1),strides = (2,1)))\n",
    "model.add(Conv2D(140, kernel_size = 3, strides=1, activation='relu'))#, kernel_regularizer=l2(0.01), bias_regularizer=l2(0.01)))\n",
    "model.add(BatchNormalization())\n",
    "model.add(MaxPooling2D(pool_size = (2,1),strides = (2,1)))\n",
    "model.add(Conv2D(275, kernel_size = 4, strides=1, activation='relu'))#, kernel_regularizer=l2(0.01), bias_regularizer=l2(0.01)))\n",
    "model.add(BatchNormalization())\n",
    "model.add(MaxPooling2D(pool_size = (2,1),strides = (2,1)))\n",
    "model.add(Conv2D(530, kernel_size = 4, strides=1, activation='relu'))#, kernel_regularizer=l2(0.01), bias_regularizer=l2(0.01)))\n",
    "model.add(BatchNormalization())\n",
    "model.add(Conv2D(530, kernel_size = 4,  strides=2,activation='relu'))#, kernel_regularizer=l2(0.01), bias_regularizer=l2(0.01)))\n",
    "model.add(BatchNormalization())\n",
    "model.add(Conv2D(530, kernel_size = 4, strides=2, activation='relu'))#, kernel_regularizer=l2(0.01), bias_regularizer=l2(0.01)))\n",
    "model.add(BatchNormalization())\n",
    "model.add(AveragePooling2D(pool_size=(1,1), strides=3, padding='valid'))\n",
    "model.add(BatchNormalization())\n",
    "model.add(Flatten())\n",
    "model.add(Dense(4096, activation=\"relu\")) \n",
    "model.add(Dense(4096, activation=\"relu\")) \n",
    "\n",
    "# COMPILE WITH ADAM OPTIMIZER AND CROSS ENTROPY COST\n",
    "model.compile(optimizer=adam, loss=\"mean_absolute_error\", metrics=[\"mse\"])"
   ]
  },
  {
   "cell_type": "code",
   "execution_count": 7,
   "metadata": {
    "colab": {
     "base_uri": "https://localhost:8080/",
     "height": 1000
    },
    "colab_type": "code",
    "id": "NGm-Vidbp6Dm",
    "outputId": "246cd1ec-6500-44e9-b916-43580395e201"
   },
   "outputs": [
    {
     "name": "stdout",
     "output_type": "stream",
     "text": [
      "Model: \"sequential_1\"\n",
      "_________________________________________________________________\n",
      "Layer (type)                 Output Shape              Param #   \n",
      "=================================================================\n",
      "conv2d_1 (Conv2D)            (None, 254, 598, 70)      2310      \n",
      "_________________________________________________________________\n",
      "batch_normalization_1 (Batch (None, 254, 598, 70)      280       \n",
      "_________________________________________________________________\n",
      "conv2d_2 (Conv2D)            (None, 251, 595, 70)      78470     \n",
      "_________________________________________________________________\n",
      "batch_normalization_2 (Batch (None, 251, 595, 70)      280       \n",
      "_________________________________________________________________\n",
      "conv2d_3 (Conv2D)            (None, 248, 592, 140)     156940    \n",
      "_________________________________________________________________\n",
      "batch_normalization_3 (Batch (None, 248, 592, 140)     560       \n",
      "_________________________________________________________________\n",
      "max_pooling2d_1 (MaxPooling2 (None, 124, 592, 140)     0         \n",
      "_________________________________________________________________\n",
      "conv2d_4 (Conv2D)            (None, 121, 589, 140)     313740    \n",
      "_________________________________________________________________\n",
      "batch_normalization_4 (Batch (None, 121, 589, 140)     560       \n",
      "_________________________________________________________________\n",
      "max_pooling2d_2 (MaxPooling2 (None, 60, 589, 140)      0         \n",
      "_________________________________________________________________\n",
      "conv2d_5 (Conv2D)            (None, 58, 587, 140)      176540    \n",
      "_________________________________________________________________\n",
      "batch_normalization_5 (Batch (None, 58, 587, 140)      560       \n",
      "_________________________________________________________________\n",
      "max_pooling2d_3 (MaxPooling2 (None, 29, 587, 140)      0         \n",
      "_________________________________________________________________\n",
      "conv2d_6 (Conv2D)            (None, 26, 584, 275)      616275    \n",
      "_________________________________________________________________\n",
      "batch_normalization_6 (Batch (None, 26, 584, 275)      1100      \n",
      "_________________________________________________________________\n",
      "max_pooling2d_4 (MaxPooling2 (None, 13, 584, 275)      0         \n",
      "_________________________________________________________________\n",
      "conv2d_7 (Conv2D)            (None, 10, 581, 530)      2332530   \n",
      "_________________________________________________________________\n",
      "batch_normalization_7 (Batch (None, 10, 581, 530)      2120      \n",
      "_________________________________________________________________\n",
      "conv2d_8 (Conv2D)            (None, 4, 289, 530)       4494930   \n",
      "_________________________________________________________________\n",
      "batch_normalization_8 (Batch (None, 4, 289, 530)       2120      \n",
      "_________________________________________________________________\n",
      "conv2d_9 (Conv2D)            (None, 1, 143, 530)       4494930   \n",
      "_________________________________________________________________\n",
      "batch_normalization_9 (Batch (None, 1, 143, 530)       2120      \n",
      "_________________________________________________________________\n",
      "average_pooling2d_1 (Average (None, 1, 48, 530)        0         \n",
      "_________________________________________________________________\n",
      "batch_normalization_10 (Batc (None, 1, 48, 530)        2120      \n",
      "_________________________________________________________________\n",
      "flatten_1 (Flatten)          (None, 25440)             0         \n",
      "_________________________________________________________________\n",
      "dense_1 (Dense)              (None, 4096)              104206336 \n",
      "_________________________________________________________________\n",
      "dense_2 (Dense)              (None, 4096)              16781312  \n",
      "=================================================================\n",
      "Total params: 133,666,133\n",
      "Trainable params: 133,660,223\n",
      "Non-trainable params: 5,910\n",
      "_________________________________________________________________\n"
     ]
    }
   ],
   "source": [
    "model.summary()"
   ]
  },
  {
   "cell_type": "code",
   "execution_count": 8,
   "metadata": {
    "colab": {
     "base_uri": "https://localhost:8080/",
     "height": 178
    },
    "colab_type": "code",
    "id": "Svji7b3Jq-3I",
    "outputId": "a4f38c83-f19b-4e91-915a-426937506296"
   },
   "outputs": [
    {
     "name": "stdout",
     "output_type": "stream",
     "text": [
      "WARNING:tensorflow:From /usr/local/lib/python3.6/dist-packages/keras/backend/tensorflow_backend.py:1033: The name tf.assign_add is deprecated. Please use tf.compat.v1.assign_add instead.\n",
      "\n",
      "WARNING:tensorflow:From /usr/local/lib/python3.6/dist-packages/keras/backend/tensorflow_backend.py:1020: The name tf.assign is deprecated. Please use tf.compat.v1.assign instead.\n",
      "\n",
      "Train on 3269 samples, validate on 364 samples\n",
      "Epoch 1/1\n",
      "3269/3269 [==============================] - 2334s 714ms/step - loss: 0.7226 - mean_squared_error: 7.2879 - val_loss: 0.7158 - val_mean_squared_error: 7.1686\n"
     ]
    },
    {
     "data": {
      "text/plain": [
       "<keras.callbacks.History at 0x7fd8bb5ddc88>"
      ]
     },
     "execution_count": 8,
     "metadata": {
      "tags": []
     },
     "output_type": "execute_result"
    }
   ],
   "source": [
    "# DECREASE LEARNING RATE EACH EPOCH\n",
    "annealer = LearningRateScheduler(lambda x: 1e-3 * 0.95 ** x)\n",
    "# TRAIN NETWORKS\n",
    "epochs = 1\n",
    "model.fit(X,Y, batch_size=1,\n",
    "      epochs = epochs ,  \n",
    "      validation_split=0.1, callbacks=[annealer], verbose=1)"
   ]
  },
  {
   "cell_type": "code",
   "execution_count": null,
   "metadata": {
    "colab": {},
    "colab_type": "code",
    "id": "iLJ6E_bCOiuX"
   },
   "outputs": [],
   "source": [
    "model.save(\"/content/drive/My Drive/S2FA1vg.h5\")"
   ]
  },
  {
   "cell_type": "code",
   "execution_count": null,
   "metadata": {
    "colab": {},
    "colab_type": "code",
    "id": "gv4FBojnLmJy"
   },
   "outputs": [],
   "source": []
  }
 ],
 "metadata": {
  "accelerator": "GPU",
  "colab": {
   "machine_shape": "hm",
   "name": "gender_recg.ipynb",
   "provenance": []
  },
  "kernelspec": {
   "display_name": "Python 3",
   "language": "python",
   "name": "python3"
  },
  "language_info": {
   "name": ""
  }
 },
 "nbformat": 4,
 "nbformat_minor": 4
}
